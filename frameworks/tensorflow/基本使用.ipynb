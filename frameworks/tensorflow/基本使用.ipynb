{
 "cells": [
  {
   "cell_type": "markdown",
   "metadata": {},
   "source": [
    "**TensorFlow 综述**\n",
    "\n",
    "TensorFlow 是一个编程系统, 使用图来表示计算任务.图中的节点被称之为 op (operation 的缩写). 一个 op 获得零个或多个 `Tensor`, 执行计算, 产生零个或多个 `Tensor`. 每个 Tensor 是一个类型化的多维数组. 例如, 将一组图像集表示为一个四维浮点数数组, 这四个维度分别是 `[batch, height, width, channels]`.\n",
    "\n",
    "一个 TensorFlow 图描述了计算的过程. 为了进行计算, 图必须在 会话 里被启动. 会话 将图的 op 分发到诸如 CPU 或 GPU 之类的设备上, 同时提供执行 op 的方法. 这些方法执行后, 将产生的 tensor 返回. 在 Python 语言中, 返回的 tensor 是 numpy 的 `ndarray` 对象； 在 C 和 C++ 语言中, 返回的 tensor 是 `tensorflow::Tensor` 实例.\n",
    "\n",
    "TensorFlow 的特点：\n",
    "- 使用图 (graph) 来表示计算任务.\n",
    "- 在被称之为 **会话 (Session)** 的上下文 (context) 中执行图.\n",
    "- 使用 tensor 表示数据.\n",
    "- 通过 **变量 (Variable)** 维护状态.\n",
    "- 使用 feed 和 fetch 可以为任意的操作(arbitrary operation) 赋值或者从其中获取数据."
   ]
  },
  {
   "cell_type": "code",
   "execution_count": 2,
   "metadata": {},
   "outputs": [],
   "source": [
    "# tensorflow 构建图\n",
    "import tensorflow as tf\n",
    "\n",
    "# 构建两个常量 op\n",
    "mat1 = tf.constant([[3., 3.]])\n",
    "mat2 = tf.constant([[2.], [2.]])\n",
    "\n",
    "# 构建一个矩阵乘 op\n",
    "prod = tf.matmul(mat1, mat2)"
   ]
  },
  {
   "cell_type": "code",
   "execution_count": 3,
   "metadata": {},
   "outputs": [
    {
     "name": "stdout",
     "output_type": "stream",
     "text": [
      "[[12.]]\n"
     ]
    }
   ],
   "source": [
    "# 启动图\n",
    "# 第一步创建一个 Session，无任何参数则选择默认图\n",
    "sess = tf.Session()\n",
    "# 执行矩阵乘 op\n",
    "res = sess.run(prod)\n",
    "print(res)\n",
    "# 关闭会话\n",
    "sess.close()"
   ]
  },
  {
   "cell_type": "code",
   "execution_count": 4,
   "metadata": {},
   "outputs": [
    {
     "name": "stdout",
     "output_type": "stream",
     "text": [
      "[[12.]]\n"
     ]
    }
   ],
   "source": [
    "# 使用 with 自动完成 Session 关闭\n",
    "with tf.Session() as sess:\n",
    "    res = sess.run(prod)\n",
    "    print(res)"
   ]
  },
  {
   "cell_type": "code",
   "execution_count": 5,
   "metadata": {},
   "outputs": [
    {
     "name": "stdout",
     "output_type": "stream",
     "text": [
      "[[12.]]\n"
     ]
    }
   ],
   "source": [
    "# 指定执行设备\n",
    "with tf.Session() as sess:\n",
    "    with tf.device(\"/gpu:0\"):\n",
    "        res = sess.run(prod)\n",
    "        print(res)"
   ]
  },
  {
   "cell_type": "code",
   "execution_count": 17,
   "metadata": {},
   "outputs": [
    {
     "name": "stdout",
     "output_type": "stream",
     "text": [
      "[-2. -1.]\n"
     ]
    },
    {
     "name": "stderr",
     "output_type": "stream",
     "text": [
      "C:\\Users\\Joee\\Anaconda3\\lib\\site-packages\\tensorflow\\python\\client\\session.py:1702: UserWarning: An interactive session is already active. This can cause out-of-memory errors in some cases. You must explicitly call `InteractiveSession.close()` to release resources held by the other session(s).\n",
      "  warnings.warn('An interactive session is already active. This can '\n"
     ]
    }
   ],
   "source": [
    "# 交互式使用\n",
    "# 使用 InteractiveSession 代替 Session 类, 使用 Tensor.eval() 和 Operation.run() 方法代替 Session.run()\n",
    "import tensorflow as tf\n",
    "# 进入交互式 Session\n",
    "sess = tf.InteractiveSession()\n",
    "\n",
    "x = tf.Variable([1., 2.])\n",
    "a = tf.constant([3., 3.])\n",
    "\n",
    "# 使用初始化器的 run() 方法初始化\n",
    "x.initializer.run()\n",
    "\n",
    "# 增加减法 op\n",
    "sub = tf.subtract(x, a)\n",
    "print(sub.eval())\n",
    "\n",
    "sess.close()"
   ]
  },
  {
   "cell_type": "code",
   "execution_count": 31,
   "metadata": {},
   "outputs": [
    {
     "name": "stdout",
     "output_type": "stream",
     "text": [
      "0\n",
      "1\n",
      "2\n",
      "3\n"
     ]
    }
   ],
   "source": [
    "# Tensor\n",
    "state = tf.Variable(0, name=\"counter\")\n",
    "\n",
    "one = tf.constant(1)\n",
    "new_val = tf.add(state, one)\n",
    "update = tf.assign(state, new_val)\n",
    "\n",
    "init = tf.initialize_all_variables()\n",
    "\n",
    "with tf.Session() as sess:\n",
    "    sess.run(init)\n",
    "    print(sess.run(state))\n",
    "    for _ in range(3):\n",
    "        sess.run(update)\n",
    "        print(sess.run(state))"
   ]
  },
  {
   "cell_type": "code",
   "execution_count": 34,
   "metadata": {},
   "outputs": [
    {
     "name": "stdout",
     "output_type": "stream",
     "text": [
      "[21.0, 7.0]\n",
      "[21.0, 7.0]\n"
     ]
    }
   ],
   "source": [
    "# fetch\n",
    "inp1 = tf.constant(3.)\n",
    "inp2 = tf.constant(2.)\n",
    "inp3 = tf.constant(5.)\n",
    "add = tf.add(inp2, inp3)\n",
    "mul = tf.multiply(inp1, add)\n",
    "\n",
    "with tf.Session() as sess:\n",
    "    res = sess.run([mul, add]) # fetch\n",
    "    print(res)"
   ]
  },
  {
   "cell_type": "code",
   "execution_count": 39,
   "metadata": {},
   "outputs": [
    {
     "name": "stdout",
     "output_type": "stream",
     "text": [
      "[array([21.], dtype=float32)]\n"
     ]
    }
   ],
   "source": [
    "# feed\n",
    "inp1 = tf.placeholder(tf.float32)\n",
    "inp2 = tf.placeholder(tf.float32)\n",
    "output = tf.multiply(inp1, inp2)\n",
    "\n",
    "with tf.Session() as sess:\n",
    "    print(sess.run([output], feed_dict={inp1: [7.], inp2: [3.]}))"
   ]
  },
  {
   "cell_type": "code",
   "execution_count": null,
   "metadata": {},
   "outputs": [],
   "source": []
  }
 ],
 "metadata": {
  "kernelspec": {
   "display_name": "Python 3",
   "language": "python",
   "name": "python3"
  },
  "language_info": {
   "codemirror_mode": {
    "name": "ipython",
    "version": 3
   },
   "file_extension": ".py",
   "mimetype": "text/x-python",
   "name": "python",
   "nbconvert_exporter": "python",
   "pygments_lexer": "ipython3",
   "version": "3.6.5"
  }
 },
 "nbformat": 4,
 "nbformat_minor": 2
}

{
 "cells": [
  {
   "cell_type": "code",
   "execution_count": 1,
   "metadata": {},
   "outputs": [
    {
     "name": "stderr",
     "output_type": "stream",
     "text": [
      "C:\\Users\\Joee\\Anaconda3\\lib\\site-packages\\h5py\\__init__.py:36: FutureWarning: Conversion of the second argument of issubdtype from `float` to `np.floating` is deprecated. In future, it will be treated as `np.float64 == np.dtype(float).type`.\n",
      "  from ._conv import register_converters as _register_converters\n"
     ]
    },
    {
     "name": "stdout",
     "output_type": "stream",
     "text": [
      "Extracting MNIST_data/train-images-idx3-ubyte.gz\n",
      "Extracting MNIST_data/train-labels-idx1-ubyte.gz\n",
      "Extracting MNIST_data/t10k-images-idx3-ubyte.gz\n",
      "Extracting MNIST_data/t10k-labels-idx1-ubyte.gz\n"
     ]
    }
   ],
   "source": [
    "import input_data\n",
    "mnist = input_data.read_data_sets(\"MNIST_data/\", one_hot=True)"
   ]
  },
  {
   "cell_type": "code",
   "execution_count": 2,
   "metadata": {},
   "outputs": [],
   "source": [
    "import tensorflow as tf\n",
    "sess = tf.InteractiveSession()"
   ]
  },
  {
   "cell_type": "code",
   "execution_count": 3,
   "metadata": {},
   "outputs": [],
   "source": [
    "x = tf.placeholder(\"float\", [None, 784])\n",
    "y = tf.placeholder(\"float\", [None, 10])"
   ]
  },
  {
   "cell_type": "markdown",
   "metadata": {},
   "source": [
    "**基础模型**"
   ]
  },
  {
   "cell_type": "code",
   "execution_count": 6,
   "metadata": {},
   "outputs": [],
   "source": [
    "W = tf.Variable(tf.zeros([784, 10]))\n",
    "b = tf.Variable(tf.zeros([10]))"
   ]
  },
  {
   "cell_type": "code",
   "execution_count": 7,
   "metadata": {},
   "outputs": [
    {
     "name": "stdout",
     "output_type": "stream",
     "text": [
      "WARNING:tensorflow:From C:\\Users\\Joee\\Anaconda3\\lib\\site-packages\\tensorflow\\python\\util\\tf_should_use.py:189: initialize_all_variables (from tensorflow.python.ops.variables) is deprecated and will be removed after 2017-03-02.\n",
      "Instructions for updating:\n",
      "Use `tf.global_variables_initializer` instead.\n"
     ]
    }
   ],
   "source": [
    "sess.run(tf.initialize_all_variables())"
   ]
  },
  {
   "cell_type": "code",
   "execution_count": 8,
   "metadata": {},
   "outputs": [],
   "source": [
    "y_ = tf.nn.softmax(tf.matmul(x, W) + b)"
   ]
  },
  {
   "cell_type": "code",
   "execution_count": 9,
   "metadata": {},
   "outputs": [],
   "source": [
    "cross_entropy = -tf.reduce_sum(y*tf.log(y_))"
   ]
  },
  {
   "cell_type": "code",
   "execution_count": 10,
   "metadata": {},
   "outputs": [],
   "source": [
    "train_step = tf.train.GradientDescentOptimizer(0.01).minimize(cross_entropy)"
   ]
  },
  {
   "cell_type": "code",
   "execution_count": 13,
   "metadata": {},
   "outputs": [],
   "source": [
    "for i in range(1000):\n",
    "    batch = mnist.train.next_batch(50)\n",
    "    train_step.run(feed_dict={x: batch[0], y: batch[1]})"
   ]
  },
  {
   "cell_type": "code",
   "execution_count": 14,
   "metadata": {},
   "outputs": [],
   "source": [
    "correct = tf.equal(tf.argmax(y, 1), tf.argmax(y_, 1))\n",
    "accuracy = tf.reduce_mean(tf.cast(correct, \"float\"))"
   ]
  },
  {
   "cell_type": "code",
   "execution_count": 15,
   "metadata": {},
   "outputs": [
    {
     "name": "stdout",
     "output_type": "stream",
     "text": [
      "0.9206\n"
     ]
    }
   ],
   "source": [
    "print(accuracy.eval(feed_dict={x: mnist.test.images, y: mnist.test.labels}))"
   ]
  },
  {
   "cell_type": "markdown",
   "metadata": {},
   "source": [
    "**多层卷积模型**"
   ]
  },
  {
   "cell_type": "code",
   "execution_count": 16,
   "metadata": {},
   "outputs": [],
   "source": [
    "# 变量初始化函数\n",
    "def weight_variable(shape):\n",
    "    initial = tf.truncated_normal(shape, stddev=0.1)\n",
    "    return tf.Variable(initial)\n",
    "\n",
    "def bias_variable(shape):\n",
    "    initial = tf.constant(0.1, shape=shape)\n",
    "    return tf.Variable(initial)"
   ]
  },
  {
   "cell_type": "code",
   "execution_count": 17,
   "metadata": {},
   "outputs": [],
   "source": [
    "# 卷积和池化函数\n",
    "def conv_2d(x, W):\n",
    "    return tf.nn.conv2d(x, W, strides=[1, 1, 1, 1], padding='SAME')\n",
    "\n",
    "def max_pool_2x2(x):\n",
    "    return tf.nn.max_pool(x, ksize=[1, 2, 2, 1], strides=[1, 2, 2, 1], padding='SAME')"
   ]
  },
  {
   "cell_type": "code",
   "execution_count": 18,
   "metadata": {},
   "outputs": [],
   "source": [
    "x_image = tf.reshape(x, [-1, 28, 28, 1])"
   ]
  },
  {
   "cell_type": "code",
   "execution_count": 19,
   "metadata": {},
   "outputs": [],
   "source": [
    "W1 = weight_variable([5, 5, 1, 32])\n",
    "b1 = bias_variable([32])"
   ]
  },
  {
   "cell_type": "code",
   "execution_count": 20,
   "metadata": {},
   "outputs": [],
   "source": [
    "hc1 = tf.nn.relu(conv_2d(x_image, W1) + b1)\n",
    "hp1 = max_pool_2x2(hc1)"
   ]
  },
  {
   "cell_type": "code",
   "execution_count": 21,
   "metadata": {},
   "outputs": [],
   "source": [
    "W2 = weight_variable([5, 5, 32, 64])\n",
    "b2 = bias_variable([64])"
   ]
  },
  {
   "cell_type": "code",
   "execution_count": 22,
   "metadata": {},
   "outputs": [],
   "source": [
    "hc2 = tf.nn.relu(conv_2d(hp1, W2) + b2)\n",
    "hp2 = max_pool_2x2(hc2)"
   ]
  },
  {
   "cell_type": "code",
   "execution_count": 23,
   "metadata": {},
   "outputs": [],
   "source": [
    "Wfc1 = weight_variable([7*7*64, 1024])\n",
    "bfc1 = bias_variable([1024])"
   ]
  },
  {
   "cell_type": "code",
   "execution_count": 25,
   "metadata": {},
   "outputs": [],
   "source": [
    "hp2_flat = tf.reshape(hp2, [-1, 7*7*64])\n",
    "hfc1 = tf.nn.relu(tf.matmul(hp2_flat, Wfc1) + bfc1)"
   ]
  },
  {
   "cell_type": "code",
   "execution_count": 26,
   "metadata": {},
   "outputs": [],
   "source": [
    "keep_prob = tf.placeholder(\"float\")\n",
    "hfc1_drop = tf.nn.dropout(hfc1, keep_prob)"
   ]
  },
  {
   "cell_type": "code",
   "execution_count": 27,
   "metadata": {},
   "outputs": [],
   "source": [
    "Wfc2 = weight_variable([1024, 10])\n",
    "bfc2 = bias_variable([10])"
   ]
  },
  {
   "cell_type": "code",
   "execution_count": 28,
   "metadata": {},
   "outputs": [],
   "source": [
    "y_ = tf.nn.softmax(tf.matmul(hfc1_drop, Wfc2) + bfc2)"
   ]
  },
  {
   "cell_type": "code",
   "execution_count": 29,
   "metadata": {},
   "outputs": [],
   "source": [
    "cross_entropy = -tf.reduce_sum(y*tf.log(y_))"
   ]
  },
  {
   "cell_type": "code",
   "execution_count": 30,
   "metadata": {},
   "outputs": [],
   "source": [
    "train_step = tf.train.AdamOptimizer(1e-4).minimize(cross_entropy)"
   ]
  },
  {
   "cell_type": "code",
   "execution_count": 31,
   "metadata": {},
   "outputs": [],
   "source": [
    "correct = tf.equal(tf.argmax(y, 1), tf.argmax(y_, 1))\n",
    "accuracy = tf.reduce_mean(tf.cast(correct, \"float\"))"
   ]
  },
  {
   "cell_type": "code",
   "execution_count": 33,
   "metadata": {},
   "outputs": [],
   "source": [
    "sess.run(tf.initialize_all_variables())"
   ]
  },
  {
   "cell_type": "code",
   "execution_count": 40,
   "metadata": {
    "scrolled": true
   },
   "outputs": [
    {
     "name": "stdout",
     "output_type": "stream",
     "text": [
      "step 0: train acc is 0.1599999964237213\n",
      "step 100: train acc is 0.9599999785423279\n",
      "step 200: train acc is 0.800000011920929\n",
      "step 300: train acc is 0.8999999761581421\n",
      "step 400: train acc is 0.9599999785423279\n",
      "step 500: train acc is 0.8999999761581421\n",
      "step 600: train acc is 1.0\n",
      "step 700: train acc is 0.9800000190734863\n",
      "step 800: train acc is 0.9800000190734863\n",
      "step 900: train acc is 0.9800000190734863\n",
      "step 1000: train acc is 0.9200000166893005\n",
      "step 1100: train acc is 0.9399999976158142\n",
      "step 1200: train acc is 0.9599999785423279\n",
      "step 1300: train acc is 0.9599999785423279\n",
      "step 1400: train acc is 0.9800000190734863\n",
      "step 1500: train acc is 0.9599999785423279\n",
      "step 1600: train acc is 0.9599999785423279\n",
      "step 1700: train acc is 1.0\n",
      "step 1800: train acc is 1.0\n",
      "step 1900: train acc is 0.9599999785423279\n",
      "step 2000: train acc is 0.9800000190734863\n",
      "step 2100: train acc is 1.0\n",
      "step 2200: train acc is 0.9800000190734863\n",
      "step 2300: train acc is 1.0\n",
      "step 2400: train acc is 0.9599999785423279\n",
      "step 2500: train acc is 0.9599999785423279\n",
      "step 2600: train acc is 1.0\n",
      "step 2700: train acc is 1.0\n",
      "step 2800: train acc is 0.9800000190734863\n",
      "step 2900: train acc is 1.0\n",
      "step 3000: train acc is 0.9599999785423279\n",
      "step 3100: train acc is 0.9800000190734863\n",
      "step 3200: train acc is 0.9800000190734863\n",
      "step 3300: train acc is 1.0\n",
      "step 3400: train acc is 0.9599999785423279\n",
      "step 3500: train acc is 1.0\n",
      "step 3600: train acc is 1.0\n",
      "step 3700: train acc is 1.0\n",
      "step 3800: train acc is 1.0\n",
      "step 3900: train acc is 0.9599999785423279\n",
      "step 4000: train acc is 0.9599999785423279\n",
      "step 4100: train acc is 1.0\n",
      "step 4200: train acc is 1.0\n",
      "step 4300: train acc is 0.9599999785423279\n",
      "step 4400: train acc is 1.0\n",
      "step 4500: train acc is 0.9800000190734863\n",
      "step 4600: train acc is 1.0\n",
      "step 4700: train acc is 0.9800000190734863\n",
      "step 4800: train acc is 0.9800000190734863\n",
      "step 4900: train acc is 0.9800000190734863\n",
      "step 5000: train acc is 1.0\n",
      "step 5100: train acc is 1.0\n",
      "step 5200: train acc is 1.0\n",
      "step 5300: train acc is 1.0\n",
      "step 5400: train acc is 1.0\n",
      "step 5500: train acc is 1.0\n",
      "step 5600: train acc is 1.0\n",
      "step 5700: train acc is 1.0\n",
      "step 5800: train acc is 1.0\n",
      "step 5900: train acc is 1.0\n",
      "step 6000: train acc is 1.0\n",
      "step 6100: train acc is 1.0\n",
      "step 6200: train acc is 1.0\n",
      "step 6300: train acc is 0.9800000190734863\n",
      "step 6400: train acc is 1.0\n",
      "step 6500: train acc is 0.9800000190734863\n",
      "step 6600: train acc is 0.9599999785423279\n",
      "step 6700: train acc is 0.9800000190734863\n",
      "step 6800: train acc is 1.0\n",
      "step 6900: train acc is 1.0\n",
      "step 7000: train acc is 0.9800000190734863\n",
      "step 7100: train acc is 1.0\n",
      "step 7200: train acc is 1.0\n",
      "step 7300: train acc is 0.9800000190734863\n",
      "step 7400: train acc is 1.0\n",
      "step 7500: train acc is 1.0\n",
      "step 7600: train acc is 0.9800000190734863\n",
      "step 7700: train acc is 0.9800000190734863\n",
      "step 7800: train acc is 0.9800000190734863\n",
      "step 7900: train acc is 1.0\n",
      "step 8000: train acc is 0.9800000190734863\n",
      "step 8100: train acc is 1.0\n",
      "step 8200: train acc is 1.0\n",
      "step 8300: train acc is 1.0\n",
      "step 8400: train acc is 1.0\n",
      "step 8500: train acc is 1.0\n",
      "step 8600: train acc is 0.9599999785423279\n",
      "step 8700: train acc is 1.0\n",
      "step 8800: train acc is 1.0\n",
      "step 8900: train acc is 1.0\n",
      "step 9000: train acc is 1.0\n",
      "step 9100: train acc is 1.0\n",
      "step 9200: train acc is 1.0\n",
      "step 9300: train acc is 1.0\n",
      "step 9400: train acc is 1.0\n",
      "step 9500: train acc is 1.0\n",
      "step 9600: train acc is 1.0\n",
      "step 9700: train acc is 1.0\n",
      "step 9800: train acc is 0.9800000190734863\n",
      "step 9900: train acc is 1.0\n",
      "step 10000: train acc is 1.0\n",
      "step 10100: train acc is 1.0\n",
      "step 10200: train acc is 1.0\n",
      "step 10300: train acc is 1.0\n",
      "step 10400: train acc is 1.0\n",
      "step 10500: train acc is 1.0\n",
      "step 10600: train acc is 1.0\n",
      "step 10700: train acc is 0.9800000190734863\n",
      "step 10800: train acc is 1.0\n",
      "step 10900: train acc is 0.9800000190734863\n",
      "step 11000: train acc is 0.9800000190734863\n",
      "step 11100: train acc is 1.0\n",
      "step 11200: train acc is 1.0\n",
      "step 11300: train acc is 1.0\n",
      "step 11400: train acc is 1.0\n",
      "step 11500: train acc is 1.0\n",
      "step 11600: train acc is 1.0\n",
      "step 11700: train acc is 1.0\n",
      "step 11800: train acc is 1.0\n",
      "step 11900: train acc is 1.0\n",
      "step 12000: train acc is 1.0\n",
      "step 12100: train acc is 1.0\n",
      "step 12200: train acc is 1.0\n",
      "step 12300: train acc is 1.0\n",
      "step 12400: train acc is 1.0\n",
      "step 12500: train acc is 1.0\n",
      "step 12600: train acc is 1.0\n",
      "step 12700: train acc is 0.9800000190734863\n",
      "step 12800: train acc is 1.0\n",
      "step 12900: train acc is 1.0\n",
      "step 13000: train acc is 1.0\n",
      "step 13100: train acc is 1.0\n",
      "step 13200: train acc is 1.0\n",
      "step 13300: train acc is 1.0\n",
      "step 13400: train acc is 1.0\n",
      "step 13500: train acc is 1.0\n",
      "step 13600: train acc is 1.0\n",
      "step 13700: train acc is 1.0\n",
      "step 13800: train acc is 1.0\n",
      "step 13900: train acc is 1.0\n",
      "step 14000: train acc is 1.0\n",
      "step 14100: train acc is 1.0\n",
      "step 14200: train acc is 1.0\n",
      "step 14300: train acc is 1.0\n",
      "step 14400: train acc is 1.0\n",
      "step 14500: train acc is 1.0\n",
      "step 14600: train acc is 1.0\n",
      "step 14700: train acc is 1.0\n",
      "step 14800: train acc is 1.0\n",
      "step 14900: train acc is 1.0\n",
      "step 15000: train acc is 1.0\n",
      "step 15100: train acc is 1.0\n",
      "step 15200: train acc is 1.0\n",
      "step 15300: train acc is 1.0\n",
      "step 15400: train acc is 0.9800000190734863\n",
      "step 15500: train acc is 1.0\n",
      "step 15600: train acc is 1.0\n",
      "step 15700: train acc is 1.0\n",
      "step 15800: train acc is 1.0\n",
      "step 15900: train acc is 1.0\n",
      "step 16000: train acc is 1.0\n",
      "step 16100: train acc is 1.0\n",
      "step 16200: train acc is 1.0\n",
      "step 16300: train acc is 1.0\n",
      "step 16400: train acc is 1.0\n",
      "step 16500: train acc is 1.0\n",
      "step 16600: train acc is 1.0\n",
      "step 16700: train acc is 1.0\n",
      "step 16800: train acc is 1.0\n",
      "step 16900: train acc is 1.0\n",
      "step 17000: train acc is 1.0\n",
      "step 17100: train acc is 1.0\n",
      "step 17200: train acc is 1.0\n",
      "step 17300: train acc is 1.0\n",
      "step 17400: train acc is 1.0\n",
      "step 17500: train acc is 1.0\n",
      "step 17600: train acc is 1.0\n",
      "step 17700: train acc is 1.0\n",
      "step 17800: train acc is 1.0\n",
      "step 17900: train acc is 1.0\n",
      "step 18000: train acc is 1.0\n",
      "step 18100: train acc is 1.0\n",
      "step 18200: train acc is 1.0\n",
      "step 18300: train acc is 1.0\n",
      "step 18400: train acc is 1.0\n",
      "step 18500: train acc is 1.0\n",
      "step 18600: train acc is 0.9800000190734863\n",
      "step 18700: train acc is 1.0\n",
      "step 18800: train acc is 1.0\n",
      "step 18900: train acc is 1.0\n",
      "step 19000: train acc is 1.0\n",
      "step 19100: train acc is 1.0\n",
      "step 19200: train acc is 1.0\n",
      "step 19300: train acc is 1.0\n",
      "step 19400: train acc is 1.0\n",
      "step 19500: train acc is 1.0\n",
      "step 19600: train acc is 0.9800000190734863\n",
      "step 19700: train acc is 1.0\n",
      "step 19800: train acc is 1.0\n",
      "step 19900: train acc is 1.0\n"
     ]
    }
   ],
   "source": [
    "for i in range(20000):\n",
    "    batch = mnist.train.next_batch(50)\n",
    "    test_batch = mnist.test.next_batch(50)\n",
    "    train_step.run(feed_dict={x: batch[0], y: batch[1], keep_prob: 0.5})\n",
    "    if i % 100 == 0:\n",
    "        log = 'step {}: train acc is {}'.format(i, accuracy.eval(feed_dict={x: batch[0], y: batch[1], keep_prob: 1.0}))\n",
    "        print(log)"
   ]
  },
  {
   "cell_type": "code",
   "execution_count": 42,
   "metadata": {},
   "outputs": [
    {
     "name": "stdout",
     "output_type": "stream",
     "text": [
      "total test acc: 0.9925000071525574.\n"
     ]
    }
   ],
   "source": [
    "print('total test acc: {}.'.format(accuracy.eval(feed_dict={x: mnist.test.images, y: mnist.test.labels, keep_prob: 1.0})))"
   ]
  },
  {
   "cell_type": "code",
   "execution_count": null,
   "metadata": {},
   "outputs": [],
   "source": []
  }
 ],
 "metadata": {
  "kernelspec": {
   "display_name": "Python 3",
   "language": "python",
   "name": "python3"
  },
  "language_info": {
   "codemirror_mode": {
    "name": "ipython",
    "version": 3
   },
   "file_extension": ".py",
   "mimetype": "text/x-python",
   "name": "python",
   "nbconvert_exporter": "python",
   "pygments_lexer": "ipython3",
   "version": "3.6.5"
  }
 },
 "nbformat": 4,
 "nbformat_minor": 2
}
